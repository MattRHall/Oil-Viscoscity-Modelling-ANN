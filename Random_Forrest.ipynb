{
 "cells": [
  {
   "cell_type": "code",
   "execution_count": 122,
   "metadata": {},
   "outputs": [],
   "source": [
    "import pandas as pd\n",
    "import numpy as np\n",
    "from sklearn.pipeline import Pipeline\n",
    "from sklearn.ensemble import RandomForestRegressor\n",
    "from sklearn.model_selection import train_test_split\n",
    "from sklearn.metrics import r2_score, mean_squared_error\n",
    "from sklearn.model_selection import cross_val_score\n",
    "from sklearn.model_selection import GridSearchCV"
   ]
  },
  {
   "cell_type": "code",
   "execution_count": 108,
   "metadata": {},
   "outputs": [
    {
     "data": {
      "text/html": [
       "<div>\n",
       "<style scoped>\n",
       "    .dataframe tbody tr th:only-of-type {\n",
       "        vertical-align: middle;\n",
       "    }\n",
       "\n",
       "    .dataframe tbody tr th {\n",
       "        vertical-align: top;\n",
       "    }\n",
       "\n",
       "    .dataframe thead th {\n",
       "        text-align: right;\n",
       "    }\n",
       "</style>\n",
       "<table border=\"1\" class=\"dataframe\">\n",
       "  <thead>\n",
       "    <tr style=\"text-align: right;\">\n",
       "      <th></th>\n",
       "      <th>Gas</th>\n",
       "      <th>Pressure</th>\n",
       "      <th>Temperature</th>\n",
       "      <th>Surfactant</th>\n",
       "      <th>Concentration</th>\n",
       "      <th>Water Type</th>\n",
       "      <th>Chelating Agent</th>\n",
       "      <th>Corrosion Inhibitor</th>\n",
       "      <th>Shear Rate</th>\n",
       "      <th>Foam Quality</th>\n",
       "      <th>Viscosity</th>\n",
       "    </tr>\n",
       "  </thead>\n",
       "  <tbody>\n",
       "    <tr>\n",
       "      <th>0</th>\n",
       "      <td>CO2</td>\n",
       "      <td>1000</td>\n",
       "      <td>300</td>\n",
       "      <td>Armovis EHS</td>\n",
       "      <td>1%</td>\n",
       "      <td>PW</td>\n",
       "      <td>0</td>\n",
       "      <td>0%</td>\n",
       "      <td>100</td>\n",
       "      <td>80.610000</td>\n",
       "      <td>16.320256</td>\n",
       "    </tr>\n",
       "    <tr>\n",
       "      <th>1</th>\n",
       "      <td>CO2</td>\n",
       "      <td>1000</td>\n",
       "      <td>300</td>\n",
       "      <td>Armovis EHS</td>\n",
       "      <td>1%</td>\n",
       "      <td>PW</td>\n",
       "      <td>0</td>\n",
       "      <td>0.0%</td>\n",
       "      <td>250</td>\n",
       "      <td>78.395238</td>\n",
       "      <td>10.194167</td>\n",
       "    </tr>\n",
       "    <tr>\n",
       "      <th>2</th>\n",
       "      <td>CO2</td>\n",
       "      <td>1000</td>\n",
       "      <td>300</td>\n",
       "      <td>Armovis EHS</td>\n",
       "      <td>1%</td>\n",
       "      <td>PW</td>\n",
       "      <td>0</td>\n",
       "      <td>0.0%</td>\n",
       "      <td>500</td>\n",
       "      <td>76.326667</td>\n",
       "      <td>6.772267</td>\n",
       "    </tr>\n",
       "    <tr>\n",
       "      <th>3</th>\n",
       "      <td>CO2</td>\n",
       "      <td>1000</td>\n",
       "      <td>300</td>\n",
       "      <td>Armovis EHS</td>\n",
       "      <td>1%</td>\n",
       "      <td>PW</td>\n",
       "      <td>0</td>\n",
       "      <td>0.0%</td>\n",
       "      <td>750</td>\n",
       "      <td>75.541304</td>\n",
       "      <td>5.325935</td>\n",
       "    </tr>\n",
       "    <tr>\n",
       "      <th>4</th>\n",
       "      <td>CO2</td>\n",
       "      <td>1000</td>\n",
       "      <td>300</td>\n",
       "      <td>Armovis EHS</td>\n",
       "      <td>1%</td>\n",
       "      <td>PW</td>\n",
       "      <td>0</td>\n",
       "      <td>0.0%</td>\n",
       "      <td>1000</td>\n",
       "      <td>74.802000</td>\n",
       "      <td>5.088800</td>\n",
       "    </tr>\n",
       "  </tbody>\n",
       "</table>\n",
       "</div>"
      ],
      "text/plain": [
       "   Gas  Pressure  Temperature   Surfactant Concentration Water Type  \\\n",
       "0  CO2      1000          300  Armovis EHS            1%         PW   \n",
       "1  CO2      1000          300  Armovis EHS            1%         PW   \n",
       "2  CO2      1000          300  Armovis EHS            1%         PW   \n",
       "3  CO2      1000          300  Armovis EHS            1%         PW   \n",
       "4  CO2      1000          300  Armovis EHS            1%         PW   \n",
       "\n",
       "  Chelating Agent Corrosion Inhibitor  Shear Rate  Foam Quality  Viscosity  \n",
       "0               0                  0%         100     80.610000  16.320256  \n",
       "1               0                0.0%         250     78.395238  10.194167  \n",
       "2               0                0.0%         500     76.326667   6.772267  \n",
       "3               0                0.0%         750     75.541304   5.325935  \n",
       "4               0                0.0%        1000     74.802000   5.088800  "
      ]
     },
     "execution_count": 108,
     "metadata": {},
     "output_type": "execute_result"
    }
   ],
   "source": [
    "df = pd.read_csv(\"data/Foam Rheometer Data for ML.csv\")\n",
    "df.head()"
   ]
  },
  {
   "cell_type": "code",
   "execution_count": 109,
   "metadata": {},
   "outputs": [
    {
     "name": "stdout",
     "output_type": "stream",
     "text": [
      "['CO2' 'N2']\n",
      "['Armovis EHS' 'Armovis EHS + TTM' 'TTM' 'Armogel O' 'Ethoduomeen T/13'\n",
      " 'Ethomeen C12' 'CAS 50']\n",
      "['PW' 'DI' 'SW' 'FW']\n",
      "Index(['Pressure', 'Temperature', 'Concentration', 'Chelating Agent',\n",
      "       'Corrosion Inhibitor', 'Shear Rate', 'Foam Quality', 'Viscosity',\n",
      "       'Gas_N2', 'Surfactant_Armovis EHS', 'Surfactant_Armovis EHS + TTM',\n",
      "       'Surfactant_CAS 50', 'Surfactant_Ethoduomeen T/13',\n",
      "       'Surfactant_Ethomeen C12', 'Surfactant_TTM', 'Water_FW', 'Water_PW',\n",
      "       'Water_SW'],\n",
      "      dtype='object')\n"
     ]
    }
   ],
   "source": [
    "print(df[\"Gas\"].unique())\n",
    "print(df[\"Surfactant\"].unique())\n",
    "print(df[\"Water Type\"].unique())\n",
    "df = pd.get_dummies(df, columns=[\"Gas\", \"Surfactant\", \"Water Type\"], prefix=[\"Gas\", \"Surfactant\", \"Water\"], drop_first = True)\n",
    "print(df.columns)"
   ]
  },
  {
   "cell_type": "code",
   "execution_count": 110,
   "metadata": {},
   "outputs": [],
   "source": [
    "def remove_pc(string):\n",
    "    if isinstance(string, str):\n",
    "        string = string.replace('%', '')\n",
    "        return float(string)\n",
    "\n",
    "df['Concentration']=df['Concentration'].apply(remove_pc)\n",
    "df['Corrosion Inhibitor']=df['Corrosion Inhibitor'].apply(remove_pc)\n",
    "df['Chelating Agent']=df['Chelating Agent'].apply(remove_pc)"
   ]
  },
  {
   "cell_type": "code",
   "execution_count": 111,
   "metadata": {},
   "outputs": [
    {
     "data": {
      "text/html": [
       "<div>\n",
       "<style scoped>\n",
       "    .dataframe tbody tr th:only-of-type {\n",
       "        vertical-align: middle;\n",
       "    }\n",
       "\n",
       "    .dataframe tbody tr th {\n",
       "        vertical-align: top;\n",
       "    }\n",
       "\n",
       "    .dataframe thead th {\n",
       "        text-align: right;\n",
       "    }\n",
       "</style>\n",
       "<table border=\"1\" class=\"dataframe\">\n",
       "  <thead>\n",
       "    <tr style=\"text-align: right;\">\n",
       "      <th></th>\n",
       "      <th>Pressure</th>\n",
       "      <th>Temperature</th>\n",
       "      <th>Concentration</th>\n",
       "      <th>Chelating Agent</th>\n",
       "      <th>Corrosion Inhibitor</th>\n",
       "      <th>Shear Rate</th>\n",
       "      <th>Foam Quality</th>\n",
       "      <th>Viscosity</th>\n",
       "      <th>Gas_N2</th>\n",
       "      <th>Surfactant_Armovis EHS</th>\n",
       "      <th>Surfactant_Armovis EHS + TTM</th>\n",
       "      <th>Surfactant_CAS 50</th>\n",
       "      <th>Surfactant_Ethoduomeen T/13</th>\n",
       "      <th>Surfactant_Ethomeen C12</th>\n",
       "      <th>Surfactant_TTM</th>\n",
       "      <th>Water_FW</th>\n",
       "      <th>Water_PW</th>\n",
       "      <th>Water_SW</th>\n",
       "    </tr>\n",
       "  </thead>\n",
       "  <tbody>\n",
       "    <tr>\n",
       "      <th>0</th>\n",
       "      <td>1000</td>\n",
       "      <td>300</td>\n",
       "      <td>1.0</td>\n",
       "      <td>0.0</td>\n",
       "      <td>0.0</td>\n",
       "      <td>100</td>\n",
       "      <td>80.610000</td>\n",
       "      <td>16.320256</td>\n",
       "      <td>0</td>\n",
       "      <td>1</td>\n",
       "      <td>0</td>\n",
       "      <td>0</td>\n",
       "      <td>0</td>\n",
       "      <td>0</td>\n",
       "      <td>0</td>\n",
       "      <td>0</td>\n",
       "      <td>1</td>\n",
       "      <td>0</td>\n",
       "    </tr>\n",
       "    <tr>\n",
       "      <th>1</th>\n",
       "      <td>1000</td>\n",
       "      <td>300</td>\n",
       "      <td>1.0</td>\n",
       "      <td>0.0</td>\n",
       "      <td>0.0</td>\n",
       "      <td>250</td>\n",
       "      <td>78.395238</td>\n",
       "      <td>10.194167</td>\n",
       "      <td>0</td>\n",
       "      <td>1</td>\n",
       "      <td>0</td>\n",
       "      <td>0</td>\n",
       "      <td>0</td>\n",
       "      <td>0</td>\n",
       "      <td>0</td>\n",
       "      <td>0</td>\n",
       "      <td>1</td>\n",
       "      <td>0</td>\n",
       "    </tr>\n",
       "    <tr>\n",
       "      <th>2</th>\n",
       "      <td>1000</td>\n",
       "      <td>300</td>\n",
       "      <td>1.0</td>\n",
       "      <td>0.0</td>\n",
       "      <td>0.0</td>\n",
       "      <td>500</td>\n",
       "      <td>76.326667</td>\n",
       "      <td>6.772267</td>\n",
       "      <td>0</td>\n",
       "      <td>1</td>\n",
       "      <td>0</td>\n",
       "      <td>0</td>\n",
       "      <td>0</td>\n",
       "      <td>0</td>\n",
       "      <td>0</td>\n",
       "      <td>0</td>\n",
       "      <td>1</td>\n",
       "      <td>0</td>\n",
       "    </tr>\n",
       "    <tr>\n",
       "      <th>3</th>\n",
       "      <td>1000</td>\n",
       "      <td>300</td>\n",
       "      <td>1.0</td>\n",
       "      <td>0.0</td>\n",
       "      <td>0.0</td>\n",
       "      <td>750</td>\n",
       "      <td>75.541304</td>\n",
       "      <td>5.325935</td>\n",
       "      <td>0</td>\n",
       "      <td>1</td>\n",
       "      <td>0</td>\n",
       "      <td>0</td>\n",
       "      <td>0</td>\n",
       "      <td>0</td>\n",
       "      <td>0</td>\n",
       "      <td>0</td>\n",
       "      <td>1</td>\n",
       "      <td>0</td>\n",
       "    </tr>\n",
       "    <tr>\n",
       "      <th>4</th>\n",
       "      <td>1000</td>\n",
       "      <td>300</td>\n",
       "      <td>1.0</td>\n",
       "      <td>0.0</td>\n",
       "      <td>0.0</td>\n",
       "      <td>1000</td>\n",
       "      <td>74.802000</td>\n",
       "      <td>5.088800</td>\n",
       "      <td>0</td>\n",
       "      <td>1</td>\n",
       "      <td>0</td>\n",
       "      <td>0</td>\n",
       "      <td>0</td>\n",
       "      <td>0</td>\n",
       "      <td>0</td>\n",
       "      <td>0</td>\n",
       "      <td>1</td>\n",
       "      <td>0</td>\n",
       "    </tr>\n",
       "  </tbody>\n",
       "</table>\n",
       "</div>"
      ],
      "text/plain": [
       "   Pressure  Temperature  Concentration  Chelating Agent  Corrosion Inhibitor  \\\n",
       "0      1000          300            1.0              0.0                  0.0   \n",
       "1      1000          300            1.0              0.0                  0.0   \n",
       "2      1000          300            1.0              0.0                  0.0   \n",
       "3      1000          300            1.0              0.0                  0.0   \n",
       "4      1000          300            1.0              0.0                  0.0   \n",
       "\n",
       "   Shear Rate  Foam Quality  Viscosity  Gas_N2  Surfactant_Armovis EHS  \\\n",
       "0         100     80.610000  16.320256       0                       1   \n",
       "1         250     78.395238  10.194167       0                       1   \n",
       "2         500     76.326667   6.772267       0                       1   \n",
       "3         750     75.541304   5.325935       0                       1   \n",
       "4        1000     74.802000   5.088800       0                       1   \n",
       "\n",
       "   Surfactant_Armovis EHS + TTM  Surfactant_CAS 50  \\\n",
       "0                             0                  0   \n",
       "1                             0                  0   \n",
       "2                             0                  0   \n",
       "3                             0                  0   \n",
       "4                             0                  0   \n",
       "\n",
       "   Surfactant_Ethoduomeen T/13  Surfactant_Ethomeen C12  Surfactant_TTM  \\\n",
       "0                            0                        0               0   \n",
       "1                            0                        0               0   \n",
       "2                            0                        0               0   \n",
       "3                            0                        0               0   \n",
       "4                            0                        0               0   \n",
       "\n",
       "   Water_FW  Water_PW  Water_SW  \n",
       "0         0         1         0  \n",
       "1         0         1         0  \n",
       "2         0         1         0  \n",
       "3         0         1         0  \n",
       "4         0         1         0  "
      ]
     },
     "execution_count": 111,
     "metadata": {},
     "output_type": "execute_result"
    }
   ],
   "source": [
    "df.head(5)"
   ]
  },
  {
   "cell_type": "code",
   "execution_count": 112,
   "metadata": {},
   "outputs": [],
   "source": [
    "y = df['Viscosity'].values\n",
    "X = df.loc[:, df.columns!='Viscosity'].values"
   ]
  },
  {
   "cell_type": "code",
   "execution_count": 118,
   "metadata": {},
   "outputs": [
    {
     "name": "stdout",
     "output_type": "stream",
     "text": [
      "R2 Score Train 0.9446109239307702\n",
      "MSE Train 5.030929659987036\n",
      "R2 Score Test 0.9184444461017257\n",
      "MSE 5.889865281091555\n"
     ]
    }
   ],
   "source": [
    "# Simple Test\n",
    "X_train, X_test, y_train, y_test=train_test_split(X,y,test_size=0.25)\n",
    "pipeline = Pipeline([('clf', RandomForestRegressor(n_estimators = 1000, criterion=\"mse\", max_depth=5))])\n",
    "model = pipeline.fit(X_train, y_train)\n",
    "\n",
    "predictions_train = model.predict(X_train)\n",
    "print(f'R2 Score Train {r2_score(y_train, predictions_train)}')\n",
    "print(f'MSE Train {mean_squared_error(y_train, predictions_train)}')\n",
    "\n",
    "predictions_test = model.predict(X_test)\n",
    "print(f'R2 Score Test {r2_score(y_test, predictions_test)}')\n",
    "print(f'MSE {mean_squared_error(y_test, predictions_test)}')\n",
    "\n"
   ]
  },
  {
   "cell_type": "code",
   "execution_count": 130,
   "metadata": {},
   "outputs": [
    {
     "data": {
      "text/plain": [
       "array([0.9312076 , 0.94397477, 0.83148097, 0.91892148, 0.8618523 ,\n",
       "       0.95194183, 0.88568313, 0.92826962, 0.85608675, 0.88005492])"
      ]
     },
     "execution_count": 130,
     "metadata": {},
     "output_type": "execute_result"
    }
   ],
   "source": [
    "X_train, X_test, y_train, y_test=train_test_split(X,y,test_size=0.15, shuffle=True)\n",
    "pipeline = Pipeline([('clf', RandomForestRegressor())])\n",
    "\n",
    "cross_val_score(pipeline, X_train, y_train, cv=10)"
   ]
  },
  {
   "cell_type": "code",
   "execution_count": 131,
   "metadata": {},
   "outputs": [
    {
     "data": {
      "text/plain": [
       "dict_keys(['memory', 'steps', 'verbose', 'clf', 'clf__bootstrap', 'clf__ccp_alpha', 'clf__criterion', 'clf__max_depth', 'clf__max_features', 'clf__max_leaf_nodes', 'clf__max_samples', 'clf__min_impurity_decrease', 'clf__min_impurity_split', 'clf__min_samples_leaf', 'clf__min_samples_split', 'clf__min_weight_fraction_leaf', 'clf__n_estimators', 'clf__n_jobs', 'clf__oob_score', 'clf__random_state', 'clf__verbose', 'clf__warm_start'])"
      ]
     },
     "execution_count": 131,
     "metadata": {},
     "output_type": "execute_result"
    }
   ],
   "source": [
    "pipeline.get_params().keys()"
   ]
  },
  {
   "cell_type": "code",
   "execution_count": 133,
   "metadata": {},
   "outputs": [
    {
     "data": {
      "text/plain": [
       "GridSearchCV(estimator=Pipeline(steps=[('clf', RandomForestRegressor())]),\n",
       "             param_grid={'clf__max_depth': [5, 10, 15],\n",
       "                         'clf__max_leaf_nodes': [5, 10, 15],\n",
       "                         'clf__min_samples_leaf': [5, 10, 15],\n",
       "                         'clf__n_estimators': [1000]})"
      ]
     },
     "execution_count": 133,
     "metadata": {},
     "output_type": "execute_result"
    }
   ],
   "source": [
    "param_grid = {'clf__n_estimators':[1000], \n",
    "              'clf__max_depth': [5, 10, 15], \n",
    "              'clf__max_leaf_nodes': [5, 10, 15], \n",
    "              'clf__min_samples_leaf': [5, 10, 15]}\n",
    "grid = GridSearchCV(pipeline, param_grid)\n",
    "grid.fit(X_train, y_train)\n"
   ]
  },
  {
   "cell_type": "code",
   "execution_count": 134,
   "metadata": {},
   "outputs": [
    {
     "data": {
      "text/plain": [
       "{'clf__max_depth': 5,\n",
       " 'clf__max_leaf_nodes': 15,\n",
       " 'clf__min_samples_leaf': 5,\n",
       " 'clf__n_estimators': 1000}"
      ]
     },
     "execution_count": 134,
     "metadata": {},
     "output_type": "execute_result"
    }
   ],
   "source": [
    "grid.best_params_"
   ]
  },
  {
   "cell_type": "code",
   "execution_count": 139,
   "metadata": {},
   "outputs": [],
   "source": [
    "X_train, X_test, y_train, y_test=train_test_split(X,y,test_size=0.15, shuffle=True)\n",
    "pipeline = Pipeline([('clf', RandomForestRegressor(n_estimators=2000, max_depth=5, max_leaf_nodes=15, min_samples_leaf=5))])\n",
    "\n",
    "print(cross_val_score(pipeline, X_train, y_train, cv=10))\n",
    "\n",
    "predictions_train = model.predict(X_train)\n",
    "print(f'R2 Score Train {r2_score(y_train, predictions_train)}')\n",
    "print(f'MSE Train {mean_squared_error(y_train, predictions_train)}')\n",
    "\n",
    "predictions_test = model.predict(X_test)\n",
    "print(f'R2 Score Test {r2_score(y_test, predictions_test)}')\n",
    "print(f'MSE {mean_squared_error(y_test, predictions_test)}')"
   ]
  },
  {
   "cell_type": "code",
   "execution_count": null,
   "metadata": {},
   "outputs": [],
   "source": []
  },
  {
   "cell_type": "code",
   "execution_count": null,
   "metadata": {},
   "outputs": [],
   "source": []
  },
  {
   "cell_type": "code",
   "execution_count": null,
   "metadata": {},
   "outputs": [],
   "source": []
  },
  {
   "cell_type": "code",
   "execution_count": null,
   "metadata": {},
   "outputs": [],
   "source": []
  },
  {
   "cell_type": "code",
   "execution_count": null,
   "metadata": {},
   "outputs": [],
   "source": []
  },
  {
   "cell_type": "code",
   "execution_count": null,
   "metadata": {},
   "outputs": [],
   "source": []
  },
  {
   "cell_type": "code",
   "execution_count": null,
   "metadata": {},
   "outputs": [],
   "source": []
  },
  {
   "cell_type": "code",
   "execution_count": null,
   "metadata": {},
   "outputs": [],
   "source": []
  },
  {
   "cell_type": "code",
   "execution_count": null,
   "metadata": {},
   "outputs": [],
   "source": []
  },
  {
   "cell_type": "code",
   "execution_count": null,
   "metadata": {},
   "outputs": [],
   "source": []
  },
  {
   "cell_type": "code",
   "execution_count": null,
   "metadata": {},
   "outputs": [],
   "source": []
  },
  {
   "cell_type": "code",
   "execution_count": null,
   "metadata": {},
   "outputs": [],
   "source": []
  }
 ],
 "metadata": {
  "interpreter": {
   "hash": "b3ba2566441a7c06988d0923437866b63cedc61552a5af99d1f4fb67d367b25f"
  },
  "kernelspec": {
   "display_name": "Python 3.8.10 64-bit ('base': conda)",
   "name": "python3"
  },
  "language_info": {
   "codemirror_mode": {
    "name": "ipython",
    "version": 3
   },
   "file_extension": ".py",
   "mimetype": "text/x-python",
   "name": "python",
   "nbconvert_exporter": "python",
   "pygments_lexer": "ipython3",
   "version": "3.8.10"
  },
  "orig_nbformat": 4
 },
 "nbformat": 4,
 "nbformat_minor": 2
}
